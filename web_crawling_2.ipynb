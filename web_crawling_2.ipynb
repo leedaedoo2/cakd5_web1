{
 "cells": [
  {
   "cell_type": "markdown",
   "id": "757ec297",
   "metadata": {},
   "source": [
    "#### selenium 모듈\n",
    "- 웹 어플리케이션 테스트를 위한 프레임워크 : 홉페이지 테스트용으로 사용\n",
    "- 사용자가 아닌 프로그램이 웹 브라우저를 제어할 수 있도록 지원\n",
    "- 웹 브라우저마다 클라이언트 프로그램(Web Driver)이 별도로 필요\n",
    "- 크롤링보다는 웹을 제어하는 목적이 더 큼\n",
    "- pip install selenium으로 설치\n",
    "- web driver 설치(크롬 버전 확인) : https://chromedriver.chromium.org/downloads\n",
    "- 압축 해제한 후 choromedrive.exe를 적당한 경로로 이동\n",
    "- selenium 모듈 호출 후 설치한 web driver 경로를 지정\n",
    "\n",
    "이벤트로 제어하기 : 브라우저를 직접 제어하기 때문에 직접 컨트롤하여 마우스 클릭, 키보드 입력, 자바스크립트 이벤트 처리 가능\n",
    "- 마우스 클릭 : click()\n",
    "- 키보드 입력 : sen_keys()\n",
    "- 자바스크립트 삽입: execute_script()\n",
    "- 입력 양식 전송 : submit()\n",
    "- 스크린샷 : screenshot(파일이름)\n",
    "- 글자 지움: clear()\n",
    "- 뒤로 가기 : back()\n",
    "- 앞으로 가기: forward()\n",
    "\n",
    "#### 셀레니움 함수\n",
    "- find_element_by_id : id 속성을 사용하여 접근\n",
    "- find_elemant(s)_by_class_name : 클래스를 사용하여 접근\n",
    "- find_element(s)_by_name : name  속성을 사용하여 접근\n",
    "- find_element(s)_by_xpath : xpath 속성을 사용하여 접근\n",
    "- find_element(s)_by_link_text : 앵커태그(a)에 사용되는 텍스트로 접근\n",
    "- find_element(s)_by_partial_link_text : 앵커태그(a)에 사용되는 일부 텍스트로 접근\n",
    "- find_element(s)_by_tag_name : 태그를 사용하여 접근\n",
    "- find_element(s)_by_css_selector : css 선택자를 사용하여 접근"
   ]
  },
  {
   "cell_type": "code",
   "execution_count": 1,
   "id": "7adb5f3f",
   "metadata": {},
   "outputs": [
    {
     "name": "stdout",
     "output_type": "stream",
     "text": [
      "Collecting selenium\n",
      "  Downloading selenium-4.1.0-py3-none-any.whl (958 kB)\n",
      "Collecting trio~=0.17\n",
      "  Downloading trio-0.19.0-py3-none-any.whl (356 kB)\n",
      "Collecting trio-websocket~=0.9\n",
      "  Downloading trio_websocket-0.9.2-py3-none-any.whl (16 kB)\n",
      "Requirement already satisfied: urllib3[secure]~=1.26 in c:\\users\\master\\anaconda3\\envs\\cakd5\\lib\\site-packages (from selenium) (1.26.8)\n",
      "Requirement already satisfied: cffi>=1.14 in c:\\users\\master\\anaconda3\\envs\\cakd5\\lib\\site-packages (from trio~=0.17->selenium) (1.15.0)\n",
      "Collecting outcome\n",
      "  Downloading outcome-1.1.0-py2.py3-none-any.whl (9.7 kB)\n",
      "Requirement already satisfied: idna in c:\\users\\master\\anaconda3\\envs\\cakd5\\lib\\site-packages (from trio~=0.17->selenium) (3.3)\n",
      "Collecting sniffio\n",
      "  Downloading sniffio-1.2.0-py3-none-any.whl (10 kB)\n",
      "Collecting sortedcontainers\n",
      "  Downloading sortedcontainers-2.4.0-py2.py3-none-any.whl (29 kB)\n",
      "Requirement already satisfied: async-generator>=1.9 in c:\\users\\master\\anaconda3\\envs\\cakd5\\lib\\site-packages (from trio~=0.17->selenium) (1.10)\n",
      "Requirement already satisfied: attrs>=19.2.0 in c:\\users\\master\\anaconda3\\envs\\cakd5\\lib\\site-packages (from trio~=0.17->selenium) (21.2.0)\n",
      "Requirement already satisfied: pycparser in c:\\users\\master\\anaconda3\\envs\\cakd5\\lib\\site-packages (from cffi>=1.14->trio~=0.17->selenium) (2.21)\n",
      "Collecting wsproto>=0.14\n",
      "  Downloading wsproto-1.0.0-py3-none-any.whl (24 kB)\n",
      "Collecting pyOpenSSL>=0.14\n",
      "  Downloading pyOpenSSL-22.0.0-py2.py3-none-any.whl (55 kB)\n",
      "Collecting cryptography>=1.3.4\n",
      "  Downloading cryptography-36.0.1-cp36-abi3-win_amd64.whl (2.2 MB)\n",
      "Requirement already satisfied: certifi in c:\\users\\master\\anaconda3\\envs\\cakd5\\lib\\site-packages (from urllib3[secure]~=1.26->selenium) (2021.10.8)\n",
      "Collecting h11<1,>=0.9.0\n",
      "  Downloading h11-0.13.0-py3-none-any.whl (58 kB)\n",
      "Installing collected packages: sortedcontainers, sniffio, outcome, h11, cryptography, wsproto, trio, pyOpenSSL, trio-websocket, selenium\n",
      "Successfully installed cryptography-36.0.1 h11-0.13.0 outcome-1.1.0 pyOpenSSL-22.0.0 selenium-4.1.0 sniffio-1.2.0 sortedcontainers-2.4.0 trio-0.19.0 trio-websocket-0.9.2 wsproto-1.0.0\n"
     ]
    }
   ],
   "source": [
    "!pip install selenium"
   ]
  },
  {
   "cell_type": "code",
   "execution_count": 3,
   "id": "e7cdb7f6",
   "metadata": {},
   "outputs": [],
   "source": [
    "#네이버 사이트 불러오기\n",
    "import selenium\n",
    "from selenium import webdriver\n",
    "from selenium.webdriver.common.keys import Keys\n",
    "\n",
    "url = 'https://naver.com'\n",
    "path = 'C:/tool/chromedriver.exe'\n",
    "driver = webdriver.Chrome(path)\n",
    "driver.get(url)"
   ]
  },
  {
   "cell_type": "code",
   "execution_count": 7,
   "id": "224aa3d8",
   "metadata": {},
   "outputs": [
    {
     "name": "stdout",
     "output_type": "stream",
     "text": [
      "https://www.naver.com/\n"
     ]
    }
   ],
   "source": [
    "print(driver.current_url)"
   ]
  },
  {
   "cell_type": "code",
   "execution_count": 8,
   "id": "3b9c656a",
   "metadata": {},
   "outputs": [],
   "source": [
    "driver.close()"
   ]
  },
  {
   "cell_type": "code",
   "execution_count": 9,
   "id": "ba0c95c5",
   "metadata": {},
   "outputs": [
    {
     "name": "stderr",
     "output_type": "stream",
     "text": [
      "C:\\Users\\Master\\AppData\\Local\\Temp/ipykernel_24644/3793273860.py:3: DeprecationWarning: executable_path has been deprecated, please pass in a Service object\n",
      "  driver = webdriver.Chrome('C:/tool/chromedriver.exe',options=options)\n"
     ]
    },
    {
     "name": "stdout",
     "output_type": "stream",
     "text": [
      "https://www.google.com/\n"
     ]
    }
   ],
   "source": [
    "options = webdriver.ChromeOptions()\n",
    "options.add_argument('headless')\n",
    "driver = webdriver.Chrome('C:/tool/chromedriver.exe',options=options)\n",
    "driver.get('https://google.com')\n",
    "print(driver.current_url)\n",
    "driver.close()"
   ]
  },
  {
   "cell_type": "code",
   "execution_count": 10,
   "id": "4f3b5664",
   "metadata": {
    "scrolled": true
   },
   "outputs": [
    {
     "name": "stderr",
     "output_type": "stream",
     "text": [
      "C:\\Users\\Master\\AppData\\Local\\Temp/ipykernel_24644/801318760.py:1: DeprecationWarning: executable_path has been deprecated, please pass in a Service object\n",
      "  driver = webdriver.Chrome(path)\n"
     ]
    }
   ],
   "source": [
    "driver = webdriver.Chrome(path)\n",
    "driver.get('https://google.com')\n",
    "driver.maximize_window()"
   ]
  },
  {
   "cell_type": "code",
   "execution_count": 11,
   "id": "82dff4e8",
   "metadata": {},
   "outputs": [
    {
     "name": "stderr",
     "output_type": "stream",
     "text": [
      "C:\\Users\\Master\\AppData\\Local\\Temp/ipykernel_24644/1109878124.py:1: DeprecationWarning: executable_path has been deprecated, please pass in a Service object\n",
      "  driver = webdriver.Chrome(path)\n"
     ]
    }
   ],
   "source": [
    "driver = webdriver.Chrome(path)\n",
    "driver.get('https://google.com')\n",
    "driver.minimize_window()"
   ]
  },
  {
   "cell_type": "code",
   "execution_count": 4,
   "id": "7f157e8d",
   "metadata": {
    "scrolled": true
   },
   "outputs": [],
   "source": [
    "#implicit waits(암묵적 대기) : 찾으려는 element가 로드될때 까지 지정한 시간만큼 대기할 수 있도록 설정\n",
    "\n",
    "from selenium.webdriver.common.by import By\n",
    "from selenium.webdriver.support.ui import WebDriverWait\n",
    "from selenium.webdriver.support import expected_conditions as EC\n",
    "\n",
    "import warnings\n",
    "warnings.filterwarnings('ignore')\n",
    "\n",
    "driver = webdriver.Chrome(path)\n",
    "driver.get('https://google.com')\n",
    "try:\n",
    "    element = WebDriverWait(driver,5).until(\n",
    "    EC.presence_of_element_located((By.CLASS_NAME,'gLFyf'))\n",
    "    )\n",
    "finally:\n",
    "    driver.quit()"
   ]
  },
  {
   "cell_type": "code",
   "execution_count": 24,
   "id": "094cf50d",
   "metadata": {
    "scrolled": true
   },
   "outputs": [
    {
     "name": "stderr",
     "output_type": "stream",
     "text": [
      "C:\\Users\\Master\\AppData\\Local\\Temp/ipykernel_24644/703459607.py:2: DeprecationWarning: executable_path has been deprecated, please pass in a Service object\n",
      "  driver = webdriver.Chrome(path)\n",
      "C:\\Users\\Master\\AppData\\Local\\Temp/ipykernel_24644/703459607.py:5: DeprecationWarning: find_element_by_* commands are deprecated. Please use find_element() instead\n",
      "  search_box = driver.find_element_by_xpath('//*[@id=\"query\"]')\n",
      "C:\\Users\\Master\\AppData\\Local\\Temp/ipykernel_24644/703459607.py:10: DeprecationWarning: find_elements_by_* commands are deprecated. Please use find_elements() instead\n",
      "  elements = driver.find_elements_by_xpath('//*[@id=\"main_pack\"]/section/div/div/div/div/h3/a')\n"
     ]
    },
    {
     "name": "stdout",
     "output_type": "stream",
     "text": [
      "빅데이터란\n",
      "빅데이터\n",
      "빅데이터\n"
     ]
    }
   ],
   "source": [
    "from time import sleep\n",
    "driver = webdriver.Chrome(path)\n",
    "driver.get('https://naver.com')\n",
    "\n",
    "search_box = driver.find_element_by_xpath('//*[@id=\"query\"]')\n",
    "\n",
    "search_box.send_keys('빅데이터')\n",
    "search_box.send_keys(Keys.RETURN)\n",
    "\n",
    "elements = driver.find_elements_by_xpath('//*[@id=\"main_pack\"]/section/div/div/div/div/h3/a')\n",
    "for element in elements:\n",
    "    print(element.text)\n",
    "    print(element.text, file=open('dataset/test_set.txt','a',encoding='utf-8'))\n",
    "    \n",
    "sleep(3)\n",
    "driver.close()"
   ]
  },
  {
   "cell_type": "code",
   "execution_count": 38,
   "id": "ae18cb2e",
   "metadata": {
    "scrolled": false
   },
   "outputs": [
    {
     "name": "stderr",
     "output_type": "stream",
     "text": [
      "C:\\Users\\Master\\AppData\\Local\\Temp/ipykernel_24644/273282440.py:1: DeprecationWarning: executable_path has been deprecated, please pass in a Service object\n",
      "  driver = webdriver.Chrome(path)\n",
      "C:\\Users\\Master\\AppData\\Local\\Temp/ipykernel_24644/273282440.py:4: DeprecationWarning: find_element_by_* commands are deprecated. Please use find_element() instead\n",
      "  driver.find_element_by_xpath('//*[@id=\"account\"]/a').click()\n",
      "C:\\Users\\Master\\AppData\\Local\\Temp/ipykernel_24644/273282440.py:15: DeprecationWarning: find_element_by_* commands are deprecated. Please use find_element() instead\n",
      "  elem = driver.find_element_by_id('query')\n",
      "C:\\Users\\Master\\AppData\\Local\\Temp/ipykernel_24644/273282440.py:18: DeprecationWarning: find_elements_by_* commands are deprecated. Please use find_elements() instead\n",
      "  els = driver.find_elements_by_tag_name('a')\n"
     ]
    },
    {
     "name": "stdout",
     "output_type": "stream",
     "text": [
      "https://search.naver.com/search.naver?where=nexearch&sm=top_hty&fbm=0&ie=utf8&query=#lnb\n",
      "https://search.naver.com/search.naver?where=nexearch&sm=top_hty&fbm=0&ie=utf8&query=#content\n",
      "https://www.naver.com/\n",
      "https://search.naver.com/search.naver?where=nexearch&sm=top_hty&fbm=0&ie=utf8&query=#\n",
      "https://search.naver.com/search.naver?where=nexearch&sm=top_hty&fbm=0&ie=utf8&query=#\n"
     ]
    }
   ],
   "source": [
    "driver = webdriver.Chrome(path)\n",
    "driver.get('https://www.naver.com')\n",
    "driver.maximize_window()\n",
    "driver.find_element_by_xpath('//*[@id=\"account\"]/a').click()\n",
    "sleep(1)\n",
    "driver.back()\n",
    "sleep(1)\n",
    "driver.forward()\n",
    "sleep(1)\n",
    "driver.refresh()\n",
    "sleep(1)\n",
    "driver.back()\n",
    "\n",
    "sleep(1)\n",
    "elem = driver.find_element_by_id('query')\n",
    "elem.send_keys(Keys.ENTER)\n",
    "sleep(1)\n",
    "els = driver.find_elements_by_tag_name('a')\n",
    "for i,e in enumerate(els):\n",
    "    if i < 5:\n",
    "        print(e.get_attribute('href'))\n",
    "    else:\n",
    "        pass\n",
    "sleep(1)\n",
    "driver.refresh()\n",
    "driver.close()"
   ]
  },
  {
   "cell_type": "code",
   "execution_count": 54,
   "id": "09b48902",
   "metadata": {
    "scrolled": true
   },
   "outputs": [
    {
     "name": "stdout",
     "output_type": "stream",
     "text": [
      "빅데이터\n",
      "빅데이터(big data)란 복잡하고 다양한 대규모 데이터세트 자체는 물론 이 데이터세트로부터 정보를 추출하고 결과를 분석하여 더 큰 가치를 창출하는 기술을 뜻한다. 수치 데이터 등 기존의 정형화된 정보뿐 아니라 텍스트 ・ 이미지 ・ 오디오 ・ 로그기...\n",
      "\n",
      "\n",
      "빅데이터\n",
      "빅데이터의 등장 오늘날 정보 통신 분야에서의 화두는 단연 빅데이터이다. 빅데이터는 기존 데이터보다 너무 방대하여 기존의 방법이나 도구로 수집/저장/분석 등이 어려운 정형 및 비정형 데이터들을 의미한다. 아래 그림에서 보여주듯 1분 동안 구글에서...\n",
      "\n",
      "\n",
      "왜 한국을 ‘이 세상에서 가장 흥미로운 장소’라고 하는가? , 빅 데이터\n",
      "가장 작은 데이터 단위는 0 혹은 1을 나타낼 수 있는 비트(bit)며, 8개의 비트가 모여 1바이트(byte)가 된다. 이후 1,024를 곱할 때마다 킬로바이트(KB) · 메가바이트(MB) · 기가바이트(GB) · 테라바이트(TB) · 페타바이트(PB) · 엑사바이트(EB) · ...\n",
      "\n",
      "\n",
      "관련 NEWS \n",
      "\n",
      "빅데이터로 중소기업 성장경로 찾아준다..중진공, 데이터 행정 도입\n",
      "휴넷, 빅데이터-AI 기반 '디지털 전문가' 양성..수강료 전액 무료\n",
      "\n",
      "[뉴스하이킥] 빅데이터 전문가 \"윤석열, 토론 이후 부정 여론 줄어\"\n",
      "[한경에세이] 바둑과 인공지능, 그리고 빅데이터\n"
     ]
    }
   ],
   "source": [
    "driver = webdriver.Chrome(path)\n",
    "driver.get('https://www.daum.net')\n",
    "\n",
    "search_box = driver.find_element_by_xpath('//*[@id=\"q\"]')\n",
    "\n",
    "search_box.send_keys('빅데이터')\n",
    "search_box.send_keys(Keys.RETURN)\n",
    "\n",
    "elements = driver.find_elements_by_xpath('//*[@id=\"pediaColl\"]/div/ul/li/div/div/div/a')\n",
    "dicts = driver.find_elements_by_xpath('//*[@id=\"pediaColl\"]/div/ul/li/div/div/p')\n",
    "ee = []\n",
    "dd = []\n",
    "for element in elements:\n",
    "    ee.append(element.text)\n",
    "for d in dicts:\n",
    "    dd.append(d.text)\n",
    "#    print(element.text, file=open('dataset/test_set.txt','a',encoding='utf-8'))\n",
    "for i in range(len(ee)):\n",
    "    print(ee[i])\n",
    "    print(dd[i])\n",
    "    print('\\n')\n",
    "news = driver.find_elements_by_css_selector('#container > li > div.wrap_cont > a')\n",
    "print('관련 NEWS','\\n')\n",
    "for title in news:\n",
    "    print(title.text)\n",
    "    \n",
    "sleep(2)\n",
    "driver.get('https://www.google.com')"
   ]
  },
  {
   "cell_type": "code",
   "execution_count": 18,
   "id": "01362f8f",
   "metadata": {},
   "outputs": [
    {
     "name": "stdout",
     "output_type": "stream",
     "text": [
      "마일리지 :2,000점\n"
     ]
    }
   ],
   "source": [
    "# 한빛미디어 사이트 로그인 한 후 마일리지 점수 출력\n",
    "from time import sleep\n",
    "driver = webdriver.Chrome(path)\n",
    "driver.get('https://www.hanbit.co.kr/index.html')\n",
    "driver.find_element_by_xpath('//*[@id=\"wrap_nav\"]/ul[2]/li[1]/a').click()\n",
    "sleep(1)\n",
    "id_box = driver.find_element_by_xpath('//*[@id=\"m_id\"]')\n",
    "id_box.send_keys('leedaedoo2')\n",
    "sleep(1)\n",
    "pw_box = driver.find_element_by_xpath('//*[@id=\"m_passwd\"]')\n",
    "pw_box.send_keys('vpdrnls456**')\n",
    "sleep(1)\n",
    "driver.find_element_by_xpath('//*[@id=\"login_btn\"]').click()\n",
    "sleep(1)\n",
    "driver.find_element_by_xpath('//*[@id=\"wrap_nav\"]/ul[2]/li[3]/a').click()\n",
    "sleep(1)\n",
    "mileage = driver.find_elements_by_xpath('//*[@id=\"container\"]/div/div[2]/dl[1]/dd/span')\n",
    "\n",
    "print('마일리지 :'+mileage[0].text+'점')\n"
   ]
  },
  {
   "cell_type": "code",
   "execution_count": null,
   "id": "76570398",
   "metadata": {},
   "outputs": [],
   "source": [
    "# 도전과제 : 네이버 로그인 후 메일 리스트 출력(자바스크립트 사용)"
   ]
  }
 ],
 "metadata": {
  "kernelspec": {
   "display_name": "Python 3 (ipykernel)",
   "language": "python",
   "name": "python3"
  },
  "language_info": {
   "codemirror_mode": {
    "name": "ipython",
    "version": 3
   },
   "file_extension": ".py",
   "mimetype": "text/x-python",
   "name": "python",
   "nbconvert_exporter": "python",
   "pygments_lexer": "ipython3",
   "version": "3.8.12"
  }
 },
 "nbformat": 4,
 "nbformat_minor": 5
}
